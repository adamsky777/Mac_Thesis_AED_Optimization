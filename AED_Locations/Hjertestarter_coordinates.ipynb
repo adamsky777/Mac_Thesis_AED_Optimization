{
 "cells": [
  {
   "cell_type": "code",
   "execution_count": 4,
   "id": "2e1f78ca-3e3f-499c-a6ce-afe295825e6f",
   "metadata": {
    "pycharm": {
     "is_executing": true
    },
    "ExecuteTime": {
     "end_time": "2023-09-16T16:43:40.370968Z",
     "start_time": "2023-09-16T16:43:40.363855Z"
    }
   },
   "outputs": [
    {
     "name": "stdout",
     "output_type": "stream",
     "text": [
      "imported\n"
     ]
    }
   ],
   "source": [
    "import time, json\n",
    "import pandas as pd\n",
    "from bs4 import BeautifulSoup\n",
    "import requests\n",
    "import csv\n",
    "import requests, re"
   ]
  },
  {
   "cell_type": "code",
   "execution_count": 5,
   "id": "f823e87e-05a8-436d-a78c-5bd0654995b9",
   "metadata": {
    "ExecuteTime": {
     "end_time": "2023-09-16T16:43:40.565757Z",
     "start_time": "2023-09-16T16:43:40.553013Z"
    }
   },
   "outputs": [],
   "source": [
    "with open('AED_locations_webscrape.html', 'r', encoding='utf-8') as file:\n",
    "    html = file.read()\n"
   ]
  },
  {
   "cell_type": "code",
   "execution_count": 6,
   "id": "217db11a-3898-4337-aef5-4b380d034c18",
   "metadata": {
    "ExecuteTime": {
     "end_time": "2023-09-16T16:43:42.582955Z",
     "start_time": "2023-09-16T16:43:40.818512Z"
    }
   },
   "outputs": [
    {
     "name": "stdout",
     "output_type": "stream",
     "text": [
      "Data extracted and saved to marker_data.csv\n"
     ]
    }
   ],
   "source": [
    "soup = BeautifulSoup(html, 'html.parser')\n",
    "\n",
    "# We need to find all script tags\n",
    "script_tags = soup.find_all('script')\n",
    "\n",
    "data = []\n",
    "\n",
    "# reg.ex pattern to extract markerOpts data\n",
    "pattern = re.compile(r\"markerOpts\\['id'\\] = (\\d+);[\\s\\S]*?markerOpts\\['markerLat'\\] = ([\\d.]+);[\\s\\S]*?markerOpts\\['markerLng'\\] = ([\\d.]+);[\\s\\S]*?markerOpts\\['bubbleHtml'\\] = '([^']+)'\")\n",
    "\n",
    "for script_tag in script_tags:\n",
    "    script_text = script_tag.string\n",
    "    if script_text:\n",
    "        matches = pattern.findall(script_text)\n",
    "        for match in matches:\n",
    "            marker_opts = {}\n",
    "            marker_opts['id'] = float(match[0])\n",
    "            marker_opts['markerLat'] = float(match[1])\n",
    "            marker_opts['markerLng'] = float(match[2])\n",
    "            bubble_html = match[3]\n",
    "\n",
    "            # Extract next level layer of bubble html\n",
    "            bubble_soup = BeautifulSoup(bubble_html, 'html.parser')\n",
    "            spans = bubble_soup.find_all('span')\n",
    "            for span in spans:\n",
    "                span_text = span.get_text(strip=True)\n",
    "                if ':' in span_text:\n",
    "                    key, value = map(str.strip, span_text.split(':', 1))\n",
    "                    # Correct the case of the keys to match fieldnames\n",
    "                    key = key.capitalize()\n",
    "                    #print(key)\n",
    "                    # fix the typos for the key.\n",
    "                    if key == 'Plassering hjertestartarter' or key == 'Plassering':\n",
    "                        key = 'Plassering hjertestarter'\n",
    "                    if key == 'Åpnignstider':\n",
    "                        key = 'Åpningstider'\n",
    "                    if key in ['Bransje', 'Åpningstider', 'Plassering hjertestarter']:\n",
    "                      marker_opts[key] = value\n",
    "                    else:\n",
    "                        # Handle unexpected field names in a sep. col.\n",
    "                        marker_opts['Unexpected Field Names'] = marker_opts.get('Unexpected Field Names', '') + f\"{key}: {value}\\n\"\n",
    "\n",
    "\n",
    "            # We fill missing data with null.\n",
    "            for key in ['Bransje', 'Åpningstider', 'Plassering hjertestarter', 'Unexpected Field Names']:\n",
    "                if key not in marker_opts:\n",
    "                    marker_opts[key] = \"null\"\n",
    "\n",
    "            data.append(marker_opts)\n",
    "\n",
    "# Save it to a csv.\n",
    "csv_filename = 'AED_facility_locations.csv'\n",
    "with open(csv_filename, 'w', newline='') as csvfile:\n",
    "    fieldnames = ['id', 'markerLat', 'markerLng', 'Bransje', 'Åpningstider', 'Plassering hjertestarter', 'Unexpected Field Names']\n",
    "    writer = csv.DictWriter(csvfile, fieldnames=fieldnames)\n",
    "    writer.writeheader()\n",
    "    for row in data:\n",
    "        writer.writerow(row)\n",
    "\n",
    "print(f'Data extracted and saved to {csv_filename}')\n"
   ]
  },
  {
   "cell_type": "code",
   "execution_count": 5,
   "id": "6fe8f1f6-41c7-480b-8588-0109f5a896bb",
   "metadata": {
    "ExecuteTime": {
     "end_time": "2023-09-16T15:51:09.064726Z",
     "start_time": "2023-09-16T15:51:09.005257Z"
    }
   },
   "outputs": [
    {
     "name": "stdout",
     "output_type": "stream",
     "text": [
      "Data extracted and saved to marker_data.csv\n"
     ]
    }
   ],
   "source": []
  }
 ],
 "metadata": {
  "kernelspec": {
   "display_name": "Python 3 (ipykernel)",
   "language": "python",
   "name": "python3"
  },
  "language_info": {
   "codemirror_mode": {
    "name": "ipython",
    "version": 3
   },
   "file_extension": ".py",
   "mimetype": "text/x-python",
   "name": "python",
   "nbconvert_exporter": "python",
   "pygments_lexer": "ipython3",
   "version": "3.11.5"
  }
 },
 "nbformat": 4,
 "nbformat_minor": 5
}
